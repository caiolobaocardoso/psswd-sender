{
 "cells": [
  {
   "cell_type": "code",
   "execution_count": null,
   "metadata": {},
   "outputs": [],
   "source": [
    "import pyautogui\n",
    "from pdf2image import convert_from_path\n",
    "import keras_ocr\n",
    "import pandas"
   ]
  },
  {
   "cell_type": "code",
   "execution_count": null,
   "metadata": {},
   "outputs": [],
   "source": [
    "#pdf to image\n",
    "pdf_path = 'C:/Users/042000026/Documents/workspace/psswd-sender/pdf-exemplo.pdf'\n",
    "pages = convert_from_path(pdf_path)"
   ]
  },
  {
   "cell_type": "code",
   "execution_count": null,
   "metadata": {},
   "outputs": [],
   "source": [
    "#ocr\n",
    "pipeline = keras_ocr.pipeline.Pipeline()\n",
    "images = pages\n",
    "predictions = pipeline.recognize(images) "
   ]
  },
  {
   "cell_type": "code",
   "execution_count": null,
   "metadata": {},
   "outputs": [],
   "source": [
    "#display \n",
    "for image, predictions in zip(images, predictions):\n",
    "    keras_ocr.tools.drawAnnotations(image=image, predictions=predictions)"
   ]
  }
 ],
 "metadata": {
  "kernelspec": {
   "display_name": "Python 3",
   "language": "python",
   "name": "python3"
  },
  "language_info": {
   "name": "python",
   "version": "3.12.4"
  }
 },
 "nbformat": 4,
 "nbformat_minor": 2
}
